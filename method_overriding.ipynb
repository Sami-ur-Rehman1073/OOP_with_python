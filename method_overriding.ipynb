{
 "cells": [
  {
   "cell_type": "markdown",
   "id": "f8dc7a7c-7b3c-4c28-87b7-0faa569d6ae1",
   "metadata": {},
   "source": [
    "# Method Overriding in Python:"
   ]
  },
  {
   "cell_type": "markdown",
   "id": "6771663e-ef50-469d-ad5a-b9db0119d372",
   "metadata": {},
   "source": [
    "Method overriding occurs when a subclass provides a specific implementation of a method that is already defined in its parent class. The method in the subclass should have the same name, signature, and parameters as the method in the parent class.<br>\n",
    "It allows a subclass to modify or extend the behavior of a method inherited from its parent class.<br>\n",
    "\n"
   ]
  },
  {
   "cell_type": "markdown",
   "id": "02623096-4681-4472-8d2b-eee0b5148cfe",
   "metadata": {},
   "source": [
    "Take a look at the code below:"
   ]
  },
  {
   "cell_type": "code",
   "execution_count": 10,
   "id": "0253af76-493f-4a8d-8e6f-d5e8ee97ebb4",
   "metadata": {},
   "outputs": [
    {
     "name": "stdout",
     "output_type": "stream",
     "text": [
      "Parent says: Hello!\n",
      "Child says: Hi!\n"
     ]
    }
   ],
   "source": [
    "class Parent:\n",
    "    def display(self, message):\n",
    "        print(f\"Parent says: {message}\")\n",
    "\n",
    "class Child(Parent):\n",
    "    def display(self, message): \n",
    "        print(f\"Child says: {message}\")\n",
    "\n",
    "def main():\n",
    "    p = Parent()\n",
    "    c = Child()\n",
    "    \n",
    "    p.display(\"Hello!\")  \n",
    "    c.display(\"Hi!\")     \n",
    "\n",
    "main()\n",
    "\n",
    "\n",
    "\n"
   ]
  },
  {
   "cell_type": "markdown",
   "id": "5bfd5ea7-e667-43e1-af2a-385297193fca",
   "metadata": {},
   "source": [
    "For true method overriding, the methods should have same type and same number of arguments."
   ]
  },
  {
   "cell_type": "markdown",
   "id": "ecb6874c-06f8-4b54-80be-5d8035e967c6",
   "metadata": {},
   "source": [
    "But it is not a strict rule. Take a look at the code below, it is also a kind of overriding. But, it not a true overriding."
   ]
  },
  {
   "cell_type": "code",
   "execution_count": 11,
   "id": "e99c57f4-35b2-4876-98e3-c23c0a05c8ff",
   "metadata": {},
   "outputs": [
    {
     "name": "stdout",
     "output_type": "stream",
     "text": [
      "6\n",
      "25\n"
     ]
    }
   ],
   "source": [
    "class rectangle:\n",
    "    def __init__(self, length, width):\n",
    "        self.length = length\n",
    "        self.width = width\n",
    "\n",
    "    def area(self):\n",
    "        return self.length * self.width\n",
    "\n",
    "class square(rectangle):\n",
    "    def __init__(self, length):\n",
    "        self.length = length\n",
    "        \n",
    "    def area(self):\n",
    "        return self.length * self.length\n",
    "\n",
    "r = rectangle(2, 3)\n",
    "c = square(5)\n",
    "print(r.area())\n",
    "print(c.area())"
   ]
  },
  {
   "cell_type": "markdown",
   "id": "9523dfb6-6610-40df-9b12-e4430256591d",
   "metadata": {},
   "source": [
    "This example will look like this with same number of parameters."
   ]
  },
  {
   "cell_type": "code",
   "execution_count": null,
   "id": "f479f857-7ca4-4547-9e6b-ba38382e4440",
   "metadata": {},
   "outputs": [],
   "source": []
  }
 ],
 "metadata": {
  "kernelspec": {
   "display_name": "Python 3 (ipykernel)",
   "language": "python",
   "name": "python3"
  },
  "language_info": {
   "codemirror_mode": {
    "name": "ipython",
    "version": 3
   },
   "file_extension": ".py",
   "mimetype": "text/x-python",
   "name": "python",
   "nbconvert_exporter": "python",
   "pygments_lexer": "ipython3",
   "version": "3.11.9"
  }
 },
 "nbformat": 4,
 "nbformat_minor": 5
}
