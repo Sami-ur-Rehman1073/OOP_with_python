{
 "cells": [
  {
   "cell_type": "markdown",
   "id": "321eac84-7f74-4cd9-afb3-84b52274b196",
   "metadata": {},
   "source": [
    "# Multiple Inheritence in Python:"
   ]
  },
  {
   "cell_type": "markdown",
   "id": "ab609c66-25a9-4d22-aa9c-d83628b9744b",
   "metadata": {},
   "source": [
    "In Python, multiple inheritance refers to a feature where a class can inherit attributes and methods from more than one parent class. This allows a class to inherit functionality from multiple sources, making it a powerful tool for code reuse and flexibility."
   ]
  },
  {
   "cell_type": "markdown",
   "id": "72da2d1e-180a-4b1f-94cc-3cdde9832864",
   "metadata": {},
   "source": [
    "Here is a sample code:"
   ]
  },
  {
   "cell_type": "code",
   "execution_count": 15,
   "id": "a70ca451-1966-4a9f-89b0-465aaccb0667",
   "metadata": {},
   "outputs": [
    {
     "name": "stdout",
     "output_type": "stream",
     "text": [
      "Animal makes a sound\n",
      "Bird can fly\n"
     ]
    }
   ],
   "source": [
    "class Animal:\n",
    "    def speak(self):\n",
    "        print(\"Animal makes a sound\")\n",
    "\n",
    "class Bird:\n",
    "    def fly(self):\n",
    "        print(\"Bird can fly\")\n",
    "\n",
    "class sparrow(Animal,  Bird):\n",
    "    pass \n",
    "\n",
    "def main():\n",
    "    s1 = sparrow()\n",
    "    s1.speak()\n",
    "    s1.fly()\n",
    "\n",
    "main()"
   ]
  },
  {
   "cell_type": "markdown",
   "id": "efc83ecc-d586-4877-ae8b-82141673626b",
   "metadata": {},
   "source": [
    "In case of method overriding, we have to specify that the specific method belongs to which class.\n",
    "Have a look at this code:"
   ]
  },
  {
   "cell_type": "code",
   "execution_count": 16,
   "id": "3352f90f-c142-4474-b519-e248bca791d4",
   "metadata": {},
   "outputs": [
    {
     "name": "stdout",
     "output_type": "stream",
     "text": [
      "ID: 007\n",
      "Name: Sami\n",
      "Father's Name: Jamil\n",
      "Contact Number: 000\n",
      "Post: Data Scientist\n",
      "Department: Data Analytics\n",
      "Salary: 100,000\n",
      "Language: Python\n",
      "Experience: 1 Year\n"
     ]
    }
   ],
   "source": [
    "class person:\n",
    "    def __init__(self, id, name, father_name, phone):\n",
    "        self.id = id\n",
    "        self.name = name\n",
    "        self.father_name = father_name\n",
    "        self.contact = phone\n",
    "\n",
    "    def display(self):\n",
    "        print(\"ID:\", self.id)\n",
    "        print(\"Name:\", self.name)\n",
    "        print(\"Father's Name:\", self.father_name)\n",
    "        print(\"Contact Number:\", self.contact)\n",
    "\n",
    "class employee:\n",
    "    def __init__(self, post, department, salary):\n",
    "        self.post = post\n",
    "        self.department = department\n",
    "        self.salary = salary\n",
    "        \n",
    "    def display(self):\n",
    "        print(\"Post:\", self.post)\n",
    "        print(\"Department:\", self.department)\n",
    "        print(\"Salary:\", self.salary)\n",
    "\n",
    "\n",
    "class programmer(person, employee):\n",
    "    def __init__(self, id, name, father_name, phone, post, department, salary, lang, ex):\n",
    "        person.__init__(self, id, name, father_name, phone)\n",
    "        employee.__init__(self, post, department, salary)\n",
    "        self.language = lang \n",
    "        self.experience = ex\n",
    "\n",
    "    def display(self):\n",
    "        person.display(self)\n",
    "        employee.display(self)\n",
    "        print(\"Language:\", self.language)\n",
    "        print(\"Experience:\", self.experience)\n",
    "        \n",
    "\n",
    "def main():\n",
    "    p1 = programmer(\"007\", \"Sami\", \"Jamil\", \"000\", \"Data Scientist\", \"Data Analytics\", \"100,000\", \"Python\", \"1 Year\")\n",
    "    p1.display()\n",
    "    \n",
    "\n",
    "\n",
    "main()\n",
    "\n",
    "\n",
    "\n",
    "    \n",
    "    "
   ]
  },
  {
   "cell_type": "markdown",
   "id": "cb9c2ee7-0414-45ac-97fe-197c737216cc",
   "metadata": {},
   "source": [
    "In case of method overriding where each of a different class has a same name, then to determine in which order of the classes the python would search that function can be determined by mro() function."
   ]
  },
  {
   "cell_type": "markdown",
   "id": "f34c2ed9-8449-4906-bff4-c3e55e206fd6",
   "metadata": {},
   "source": [
    "### Method Resolution Order(MRO):"
   ]
  },
  {
   "cell_type": "markdown",
   "id": "c6ffc6a7-5fed-41f8-88e6-68766c36f69e",
   "metadata": {},
   "source": [
    "The Method Resolution Order (MRO) is a mechanism in Python that defines the order in which classes are inherited from when a method is called in a class hierarchy. It's especially useful in multiple inheritance scenarios to determine which method should be called first when a method is invoked on an object."
   ]
  },
  {
   "cell_type": "markdown",
   "id": "c89e4c9c-43d6-4c22-acf7-6810f1297cdf",
   "metadata": {},
   "source": [
    "Here is a sample code:"
   ]
  },
  {
   "cell_type": "code",
   "execution_count": 19,
   "id": "c9a54a3d-7ae5-4430-952d-34a9591ec56f",
   "metadata": {},
   "outputs": [
    {
     "name": "stdout",
     "output_type": "stream",
     "text": [
      "Method in class A\n",
      "[<class '__main__.D'>, <class '__main__.B'>, <class '__main__.C'>, <class '__main__.A'>, <class 'object'>]\n"
     ]
    }
   ],
   "source": [
    "class A:\n",
    "    def display(self):\n",
    "        print(\"Method in class A\")\n",
    "\n",
    "class B(A):\n",
    "    def display(self):\n",
    "        print(\"Method in class B\")\n",
    "\n",
    "class C(A):\n",
    "    def display(self):\n",
    "        print(\"Method in class C\")\n",
    "\n",
    "class D(B, C): \n",
    "    pass\n",
    "\n",
    "\n",
    "d = D()\n",
    "d.display() \n",
    "\n",
    "\n",
    "print(D.mro())  \n"
   ]
  },
  {
   "cell_type": "markdown",
   "id": "508dbae5-9cdd-4bd2-bdaf-d2cc06c5d955",
   "metadata": {},
   "source": [
    "But in this example, if the method is not present in class B, then python will search the method in class C. The method of class A will not get called due to inheritence of class A in B, but python will search this method in class C. "
   ]
  },
  {
   "cell_type": "code",
   "execution_count": 20,
   "id": "912861a8-84ef-448b-b6a3-18b0eb864e28",
   "metadata": {},
   "outputs": [
    {
     "name": "stdout",
     "output_type": "stream",
     "text": [
      "Method in class C\n",
      "[<class '__main__.D'>, <class '__main__.B'>, <class '__main__.C'>, <class '__main__.A'>, <class 'object'>]\n"
     ]
    }
   ],
   "source": [
    "class A:\n",
    "    def display(self):\n",
    "        print(\"Method in class A\")\n",
    "\n",
    "class B(A):\n",
    "    pass\n",
    "\n",
    "class C(A):\n",
    "    def display(self):\n",
    "        print(\"Method in class C\")\n",
    "\n",
    "class D(B, C): \n",
    "    pass\n",
    "\n",
    "d = D()\n",
    "d.display() \n",
    "\n",
    "print(D.mro())  \n"
   ]
  },
  {
   "cell_type": "markdown",
   "id": "3074d101-a382-4eac-a236-d263f974ce88",
   "metadata": {},
   "source": [
    "<ul>\n",
    "   <li>Multiple inheritance allows a subclass to reuse code from multiple base classes. This can reduce the need for duplicate code and improve maintainability.</li>\n",
    "    <li><li>. Multiple inheritance allows a subclass to reuse code from multiple base classes. This can reduce the need for duplicate code and improve maintainability.</li>.</li></li>\n",
    "</ul>"
   ]
  },
  {
   "cell_type": "code",
   "execution_count": null,
   "id": "f3c07849-a7f8-49fe-b9f6-b286c97f20bc",
   "metadata": {},
   "outputs": [],
   "source": []
  }
 ],
 "metadata": {
  "kernelspec": {
   "display_name": "Python 3 (ipykernel)",
   "language": "python",
   "name": "python3"
  },
  "language_info": {
   "codemirror_mode": {
    "name": "ipython",
    "version": 3
   },
   "file_extension": ".py",
   "mimetype": "text/x-python",
   "name": "python",
   "nbconvert_exporter": "python",
   "pygments_lexer": "ipython3",
   "version": "3.11.9"
  }
 },
 "nbformat": 4,
 "nbformat_minor": 5
}
