{
 "cells": [
  {
   "cell_type": "markdown",
   "id": "db8ba0b4-261b-4350-8d09-9bcb6bff6542",
   "metadata": {},
   "source": [
    "# STATIC METHODS IN PYTHON"
   ]
  },
  {
   "cell_type": "markdown",
   "id": "e3eb2da1-ff21-4d41-9da4-78e42d72ae22",
   "metadata": {},
   "source": [
    "A static method is the method of a class which can be called withoout the instance of the class. This method can be accessed without making an instance of the class. "
   ]
  },
  {
   "cell_type": "markdown",
   "id": "8ed6e0db-3b7c-4391-8586-fbf9bc315522",
   "metadata": {},
   "source": [
    "Here is the basic syntax of making static method"
   ]
  },
  {
   "cell_type": "code",
   "execution_count": 10,
   "id": "30d08d2b-389a-47b2-8680-1d5fbf10bf3a",
   "metadata": {},
   "outputs": [
    {
     "name": "stdout",
     "output_type": "stream",
     "text": [
      "16\n"
     ]
    }
   ],
   "source": [
    "class arithematic:\n",
    "    def __init__(self, n1, n2):\n",
    "        self.num1 = n1\n",
    "        self.num2 = n2\n",
    "\n",
    "    def add_nums(self):\n",
    "        return self.num1 + self.num2\n",
    "\n",
    "    def sub_nums(self):\n",
    "        return self.num1 - self.num2\n",
    "\n",
    "    @staticmethod\n",
    "    def num_squared(num):\n",
    "        return num ** 2\n",
    "\n",
    "def main():\n",
    "    a = arithematic(5, 6)\n",
    "    # print(a.add_nums())\n",
    "    print(a.num_squared(4))\n",
    "\n",
    "main()\n",
    "    \n",
    "        \n",
    "\n",
    "    \n"
   ]
  },
  {
   "cell_type": "markdown",
   "id": "dd449046-fa4c-4af0-9ee7-0e38cebabb8d",
   "metadata": {},
   "source": [
    "Static method can be called by two ways"
   ]
  },
  {
   "cell_type": "code",
   "execution_count": 30,
   "id": "daf3fe1c-536a-48f1-a873-68d0df7751cf",
   "metadata": {},
   "outputs": [
    {
     "name": "stdout",
     "output_type": "stream",
     "text": [
      "16\n",
      "16\n"
     ]
    }
   ],
   "source": [
    "class arithematic:\n",
    "    def __init__(self, n1, n2):\n",
    "        self.num1 = n1\n",
    "        self.num2 = n2\n",
    "\n",
    "    def add_nums(self):\n",
    "        return self.num1 + self.num2\n",
    "\n",
    "    def sub_nums(self):\n",
    "        return self.num1 - self.num2\n",
    "\n",
    "    @staticmethod\n",
    "    def num_squared(num):\n",
    "        return num ** 2\n",
    "\n",
    "def main():\n",
    "    a = arithematic(5, 6)\n",
    "    # print(a.add_nums())\n",
    "    print(a.num_squared(4))                              #way-1(by using instance name)\n",
    "    print(arithematic.num_squared(4))                    #way-2(by using class name)\n",
    "\n",
    "main()"
   ]
  },
  {
   "cell_type": "markdown",
   "id": "fd0c8bb4-7415-4a63-b88e-603e4f4bffa8",
   "metadata": {},
   "source": [
    "static method is associated to class. It is class bounded method, it cannot be called independently outside the class \n"
   ]
  },
  {
   "cell_type": "code",
   "execution_count": 13,
   "id": "ca0f9df7-608e-4ad3-a4f9-27c5c9416893",
   "metadata": {},
   "outputs": [],
   "source": [
    "class arithematic:\n",
    "    def __init__(self, n1, n2):\n",
    "        self.num1 = n1\n",
    "        self.num2 = n2\n",
    "\n",
    "    def add_nums(self):\n",
    "        return self.num1 + self.num2\n",
    "\n",
    "    def sub_nums(self):\n",
    "        return self.num1 - self.num2\n",
    "\n",
    "    @staticmethod\n",
    "    def num_squared(num):\n",
    "        return num ** 2\n",
    "\n",
    "def main():\n",
    "    a = arithematic(5, 6)\n",
    "    print(num_squared(4))        #This will generate error because num_squared is unknown unless \n",
    "                                 #you call it with classname or instance of that class\n",
    "\n",
    "main()"
   ]
  },
  {
   "cell_type": "markdown",
   "id": "d2cdd356-12b8-4e61-9ecf-ed42019348d1",
   "metadata": {},
   "source": [
    "Static method can be accessed within the class. It means that you can use a static method inside the class or inside a function. "
   ]
  },
  {
   "cell_type": "code",
   "execution_count": 28,
   "id": "5acf4e88-d4fd-4161-8e82-3d21733e1bcf",
   "metadata": {},
   "outputs": [
    {
     "name": "stdout",
     "output_type": "stream",
     "text": [
      "16\n"
     ]
    }
   ],
   "source": [
    "class arithematic:\n",
    "    def __init__(self, n1, n2):\n",
    "        self.num1 = n1\n",
    "        self.num2 = n2\n",
    "\n",
    "    def add_nums(self):\n",
    "        return self.num1 + self.num2\n",
    "\n",
    "    def sub_nums(self):\n",
    "        return self.num1 - self.num2\n",
    "\n",
    "    @staticmethod\n",
    "    def num_squared(num):\n",
    "        return num ** 2\n",
    "\n",
    "    def return_num(self, n):\n",
    "        num = arithematic.num_squared(n)\n",
    "        return num \n",
    "\n",
    "def main():\n",
    "    a = arithematic(5, 6)\n",
    "    print(a.return_num(4))\n",
    "\n",
    "main()"
   ]
  },
  {
   "cell_type": "markdown",
   "id": "ec283882-6ae1-4883-9dc2-08f06ccbf54c",
   "metadata": {},
   "source": [
    "Static methods can also use class members(variables), they can perform operations on them."
   ]
  },
  {
   "cell_type": "code",
   "execution_count": 29,
   "id": "f9f1ae99-8395-4db7-a60d-d596f3d8e092",
   "metadata": {},
   "outputs": [
    {
     "name": "stdout",
     "output_type": "stream",
     "text": [
      "25\n"
     ]
    }
   ],
   "source": [
    "class arithematic:\n",
    "    def __init__(self, n1, n2):\n",
    "        self.num1 = n1\n",
    "        self.num2 = n2\n",
    "\n",
    "    def add_nums(self):\n",
    "        return self.num1 + self.num2\n",
    "\n",
    "    def sub_nums(self):\n",
    "        return self.num1 - self.num2\n",
    "\n",
    "    @staticmethod\n",
    "    def num_squared(self):\n",
    "        return self.num1 ** 2\n",
    "\n",
    "    def return_num(self):\n",
    "        num = arithematic.num_squared(self)\n",
    "        return num \n",
    "\n",
    "def main():\n",
    "    a = arithematic(5, 6)\n",
    "    print(a.return_num())\n",
    "\n",
    "main()"
   ]
  },
  {
   "cell_type": "markdown",
   "id": "f321ee47-a5e9-4847-a093-daca9abcb22b",
   "metadata": {},
   "source": [
    "### Important"
   ]
  },
  {
   "cell_type": "markdown",
   "id": "43beaa6d-03ec-4271-aaa2-1dc89bcde4b2",
   "metadata": {},
   "source": [
    "Is it necessary to pass \"self\" keyword (class instance) to a class method for accessing it?<br>\n",
    "Can the class methods can be made without using \"self\" keyword?<br>\n",
    "Are there any methods which can be used without an instance?<br>\n",
    "Is it necessary that class method can only be called on an instance?<br>\n",
    "\n",
    "\n",
    "##### No. It is not necessary. We can also use static methods which are bound to class and do not require an instance.\n",
    "##### Static methods and class methods do not require an instance to be called."
   ]
  },
  {
   "cell_type": "code",
   "execution_count": null,
   "id": "75a7e26a-ca62-414b-abe8-526d344abd94",
   "metadata": {},
   "outputs": [],
   "source": []
  }
 ],
 "metadata": {
  "kernelspec": {
   "display_name": "Python 3 (ipykernel)",
   "language": "python",
   "name": "python3"
  },
  "language_info": {
   "codemirror_mode": {
    "name": "ipython",
    "version": 3
   },
   "file_extension": ".py",
   "mimetype": "text/x-python",
   "name": "python",
   "nbconvert_exporter": "python",
   "pygments_lexer": "ipython3",
   "version": "3.11.9"
  }
 },
 "nbformat": 4,
 "nbformat_minor": 5
}
