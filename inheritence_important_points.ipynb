{
 "cells": [
  {
   "cell_type": "markdown",
   "id": "deb258cd-8a2d-438e-9909-b59b1e7bf30a",
   "metadata": {},
   "source": [
    "# Important Points related to Inheritence:"
   ]
  },
  {
   "cell_type": "markdown",
   "id": "2709d55a-654d-43eb-8595-70c6df5a7b2b",
   "metadata": {},
   "source": [
    "#### Point-1:"
   ]
  },
  {
   "cell_type": "markdown",
   "id": "e75605b4-ac4c-4c9f-bd12-bc7899c30d52",
   "metadata": {},
   "source": [
    "Consider the code below:"
   ]
  },
  {
   "cell_type": "code",
   "execution_count": null,
   "id": "4d3abcf1-d209-4987-b147-bd2e7f6d8342",
   "metadata": {},
   "outputs": [],
   "source": [
    "class parent:\n",
    "    def __init__(self, v):\n",
    "        self._protected = v\n",
    "\n",
    "class child(parent):\n",
    "    def __init__(self):\n",
    "        pass\n",
    "\n",
    "    def show_protected(self):\n",
    "        print(parent._protected)\n",
    "\n",
    "    def set_protected(self, val):\n",
    "        parent._protected = val\n",
    "\n",
    "\n",
    "def main():\n",
    "    o = parent(50)\n",
    "    p = child()\n",
    "    p.show_protected()\n",
    "    p.set_protected(100)\n",
    "    p.show_protected()\n",
    "\n",
    "\n",
    "main()\n"
   ]
  },
  {
   "cell_type": "markdown",
   "id": "ffc8d867-dd7b-40ce-a40b-5c550fc3d968",
   "metadata": {},
   "source": [
    "If we look at this code, it is supposed to print 50 and then 100.<br>\n",
    "But there are a couple of errors in the code. In this code, we are trying to access the member self._protected of the parent class into the child class and then we are trying to access self._protected of parent class into child class by using the code parent._protected. So by this, this code is supposed to take self._protected of the parent class to the child class, which will not happen."
   ]
  },
  {
   "cell_type": "markdown",
   "id": "b394d8b8-1504-4850-bb48-4781b834310b",
   "metadata": {},
   "source": [
    "This is because self._protected is an instance method of parent class, not a class member. The line parent._protected can access only class members of the parent class, not the instance members. "
   ]
  },
  {
   "cell_type": "markdown",
   "id": "184ae5ec-6bd0-493d-ad82-8dc4edac28be",
   "metadata": {},
   "source": [
    "Take a look at the sample code:"
   ]
  },
  {
   "cell_type": "code",
   "execution_count": 6,
   "id": "89b26474-c171-4f0e-a84f-3eda792d5675",
   "metadata": {},
   "outputs": [
    {
     "name": "stdout",
     "output_type": "stream",
     "text": [
      "100\n"
     ]
    }
   ],
   "source": [
    "class parent:\n",
    "    class_var = 100\n",
    "    def __init__(self, v):\n",
    "        self.instance_var = v\n",
    "\n",
    "class child(parent):\n",
    "    def __init__(self):\n",
    "        pass\n",
    "\n",
    "    def show_var(self):\n",
    "        print(parent.class_var)\n",
    "\n",
    "\n",
    "def main():\n",
    "    c = child()\n",
    "    c.show_var()\n",
    "\n",
    "main()"
   ]
  },
  {
   "cell_type": "markdown",
   "id": "0d1185dd-801d-4dae-9bd3-3991afb18461",
   "metadata": {},
   "source": [
    "This code works because now we are accessing the class members of parent class in show_var() function. But we cannot access self.instance_var by using parent.class_var"
   ]
  },
  {
   "cell_type": "code",
   "execution_count": null,
   "id": "80bb4b46-3cee-4f2e-a3c0-e0e981b04cc8",
   "metadata": {},
   "outputs": [],
   "source": []
  }
 ],
 "metadata": {
  "kernelspec": {
   "display_name": "Python 3 (ipykernel)",
   "language": "python",
   "name": "python3"
  },
  "language_info": {
   "codemirror_mode": {
    "name": "ipython",
    "version": 3
   },
   "file_extension": ".py",
   "mimetype": "text/x-python",
   "name": "python",
   "nbconvert_exporter": "python",
   "pygments_lexer": "ipython3",
   "version": "3.11.9"
  }
 },
 "nbformat": 4,
 "nbformat_minor": 5
}
