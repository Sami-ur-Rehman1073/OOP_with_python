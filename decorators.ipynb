{
 "cells": [
  {
   "cell_type": "markdown",
   "id": "495f9d2c-f6fd-40c3-9d36-c43e7190d683",
   "metadata": {},
   "source": [
    "#                                                     DECORATORS IN PYTHON"
   ]
  },
  {
   "cell_type": "markdown",
   "id": "20ed8467-cb6b-43e1-9e13-2533ebf20669",
   "metadata": {},
   "source": [
    "A Decorator is a function in python which takes another function as an argument and modifies that function. Lets understand it with a simple example. \n",
    "Suppose we want that if a user calls a function, function should also greet the user by mentioning username. It can be done by simply using print statments in the function. But suppose if there are large amount of functions in a class and we want all those functions to greet the user, then it would not be an easy task to put print statments in all the functions. So for that purpose, decorators help us to modify functons. "
   ]
  },
  {
   "cell_type": "markdown",
   "id": "9da69905-c112-49e6-990c-4f026d20dea7",
   "metadata": {},
   "source": [
    "Here is the basic syntax of decorators."
   ]
  },
  {
   "cell_type": "code",
   "execution_count": 4,
   "id": "0a65ae4c-89be-48e0-9f57-9499f351bd45",
   "metadata": {},
   "outputs": [
    {
     "name": "stdout",
     "output_type": "stream",
     "text": [
      "Welcome! \n",
      "Hello, World!\n",
      "Bye! \n"
     ]
    }
   ],
   "source": [
    "def greet(func):\n",
    "    def modified_func():\n",
    "        print(\"Welcome! \")\n",
    "        func()\n",
    "        print(\"Bye! \")\n",
    "    return modified_func\n",
    "\n",
    "@greet\n",
    "def hello():\n",
    "    print(\"Hello, World!\")\n",
    "\n",
    "hello()"
   ]
  },
  {
   "cell_type": "markdown",
   "id": "1ef42e65-d2d6-4ac1-ac03-00d1465d7872",
   "metadata": {},
   "source": [
    "The modified func can also be called as \"wrapper function\" "
   ]
  },
  {
   "cell_type": "markdown",
   "id": "d54fdf58-9d3c-4d21-879c-e3eaf8bec031",
   "metadata": {},
   "source": [
    "In case if function has arguments, then we can use *args to collect the arguments given to the function in wrapper function. The arguments will be recieved in the form of tuple."
   ]
  },
  {
   "cell_type": "code",
   "execution_count": 5,
   "id": "7079b0c0-4f3c-4129-ac74-b11053e7092e",
   "metadata": {},
   "outputs": [
    {
     "name": "stdin",
     "output_type": "stream",
     "text": [
      "Please enter your name:  Sami\n"
     ]
    },
    {
     "name": "stdout",
     "output_type": "stream",
     "text": [
      "Good Day, Sami\n",
      "5\n",
      "Thanks for using this function, Sami\n"
     ]
    }
   ],
   "source": [
    "class arithematic:\n",
    "    def __init__(self, name):\n",
    "        self.name = name \n",
    "\n",
    "    def greet(func):    #pass the function here\n",
    "        def modified_func(self,*args):  #pass the arguments of the function here\n",
    "            print(f\"Good Day, {self.name}\")\n",
    "            print(func(self, *args))    #function will collect the argumets here \n",
    "            print(f\"Thanks for using this function, {self.name}\")\n",
    "        return modified_func\n",
    "\n",
    "    @greet\n",
    "    def add(self,  a, b):\n",
    "        return a + b\n",
    "    \n",
    "    def sub(self, a, b):\n",
    "        return a - b\n",
    "    \n",
    "def main():\n",
    "    user = input(\"Please enter your name: \")\n",
    "    my_object = arithematic(user)\n",
    "    my_object.add(2, 3)\n",
    "\n",
    "main()\n",
    "\n"
   ]
  },
  {
   "cell_type": "code",
   "execution_count": null,
   "id": "4bbb37ee-ed2d-42ff-9773-ad29d21dd32e",
   "metadata": {},
   "outputs": [],
   "source": []
  },
  {
   "cell_type": "markdown",
   "id": "1c7e4846-e66c-4a5c-a9d6-f1b1793b8222",
   "metadata": {},
   "source": [
    "It is important to note that while using decorator on a class method, you should pass the self (object) as an argument in the wrapper function"
   ]
  },
  {
   "cell_type": "code",
   "execution_count": null,
   "id": "765fd734-c949-49ba-a752-fec3d79be391",
   "metadata": {},
   "outputs": [],
   "source": []
  },
  {
   "cell_type": "markdown",
   "id": "19ea680d-0af3-4bce-8e0a-a1287060ba6f",
   "metadata": {},
   "source": [
    "You can stack multiple decorators on a single function. In this case, the inside decorator will be applied first and then first decorator will be applied."
   ]
  },
  {
   "cell_type": "code",
   "execution_count": 1,
   "id": "d968e9e1-d348-489a-b3b9-a9d663df04c9",
   "metadata": {},
   "outputs": [
    {
     "name": "stdin",
     "output_type": "stream",
     "text": [
      "Please enter your name:  Sami\n"
     ]
    },
    {
     "name": "stdout",
     "output_type": "stream",
     "text": [
      "Hello! \n",
      "Good Day, Sami\n",
      "5\n",
      "Thanks for using this function, Sami\n",
      "Good Bye!\n"
     ]
    }
   ],
   "source": [
    "class arithematic:\n",
    "    def __init__(self, name):\n",
    "        self.name = name \n",
    "\n",
    "    def hello(func):\n",
    "        def modified_func(self, *args):\n",
    "            print(\"Hello! \")\n",
    "            func(self, *args)\n",
    "            print(\"Good Bye!\")\n",
    "        return modified_func\n",
    "\n",
    "    def greet(func):\n",
    "        def modified_func(self,*args):\n",
    "            print(f\"Good Day, {self.name}\")\n",
    "            print(func(self, *args))\n",
    "            print(f\"Thanks for using this function, {self.name}\")\n",
    "        return modified_func\n",
    "\n",
    "    @hello\n",
    "    @greet\n",
    "    def add(self,  a, b):\n",
    "        return a + b\n",
    "    \n",
    "    def sub(self, a, b):\n",
    "        return a - b\n",
    "    \n",
    "def main():\n",
    "    user = input(\"Please enter your name: \")\n",
    "    my_object = arithematic(user)\n",
    "    my_object.add(2, 3)\n",
    "\n",
    "main()"
   ]
  },
  {
   "cell_type": "markdown",
   "id": "a28d649b-3b88-421f-864e-cf21b652fb2f",
   "metadata": {},
   "source": [
    "Here decorator2 will be applied first and decorator1 will be applied second. "
   ]
  },
  {
   "cell_type": "markdown",
   "id": "cbe95360-2e66-4898-875f-69cdeae5452e",
   "metadata": {},
   "source": [
    "Decorators can also be applied without using @ syntax."
   ]
  },
  {
   "cell_type": "code",
   "execution_count": 9,
   "id": "5cb1a3f9-94ce-4933-a534-b428edc89ae1",
   "metadata": {},
   "outputs": [],
   "source": [
    "def my_function():\n",
    "    pass\n",
    "\n",
    "# my_function = decorator_name(my_function)"
   ]
  },
  {
   "cell_type": "code",
   "execution_count": null,
   "id": "012fd12b-8020-4041-ab26-7e89e67bfff3",
   "metadata": {},
   "outputs": [],
   "source": []
  }
 ],
 "metadata": {
  "kernelspec": {
   "display_name": "Python 3 (ipykernel)",
   "language": "python",
   "name": "python3"
  },
  "language_info": {
   "codemirror_mode": {
    "name": "ipython",
    "version": 3
   },
   "file_extension": ".py",
   "mimetype": "text/x-python",
   "name": "python",
   "nbconvert_exporter": "python",
   "pygments_lexer": "ipython3",
   "version": "3.11.9"
  }
 },
 "nbformat": 4,
 "nbformat_minor": 5
}
