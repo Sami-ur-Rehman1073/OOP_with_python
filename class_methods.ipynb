{
 "cells": [
  {
   "cell_type": "markdown",
   "id": "4112972f-d434-42c8-9446-2e6e16d908c4",
   "metadata": {},
   "source": [
    "# CLASS METHODS IN PYTHON"
   ]
  },
  {
   "cell_type": "markdown",
   "id": "74f380af-692b-42eb-ada2-f7b6d6b88464",
   "metadata": {},
   "source": [
    "A class method is a method which is bounded to a class. They are not bounded to an instance and they can change members of the class."
   ]
  },
  {
   "cell_type": "markdown",
   "id": "9b359fdc-9425-4ea0-b070-730ab785cdcb",
   "metadata": {},
   "source": [
    "Take a look at the code below:"
   ]
  },
  {
   "cell_type": "code",
   "execution_count": 6,
   "id": "042421e3-0082-4922-97aa-6b16adf1f74e",
   "metadata": {},
   "outputs": [
    {
     "name": "stdout",
     "output_type": "stream",
     "text": [
      "JF-008\n",
      "JF-007\n"
     ]
    }
   ],
   "source": [
    "class Passenger:\n",
    "    planecode = \"JF-007\"\n",
    "    def __init__(self, name, destination, phone):\n",
    "        self.name = name \n",
    "        self.destination = destination\n",
    "        self.phone = phone\n",
    "\n",
    "    def changeplane(cls, newplane):\n",
    "        cls.planecode = newplane\n",
    "\n",
    "def main():\n",
    "    p1 = Passenger(\"sami\", \"karachi\", \"000\")\n",
    "    p1.changeplane(\"JF-008\")\n",
    "    print(p1.planecode)\n",
    "\n",
    "    p2 = Passenger(\"Ali\", \"Lahore\", \"001\")\n",
    "    print(p2.planecode) \n",
    "\n",
    "main()\n",
    "    \n",
    "            "
   ]
  },
  {
   "cell_type": "markdown",
   "id": "175235b7-93b2-4c80-9251-187c70782d46",
   "metadata": {},
   "source": [
    "In this code, the changeplane() method only does changes in the specific instance. It is not changing the class member. It just takes an instance in the form of cls and does changes only in that instance "
   ]
  },
  {
   "cell_type": "markdown",
   "id": "73ae8912-aac3-4c5e-91b0-66c8f57cd6c9",
   "metadata": {},
   "source": [
    "Now take a look at this code:"
   ]
  },
  {
   "cell_type": "code",
   "execution_count": 9,
   "id": "e0ff92da-aa10-4891-9a7f-ed67c41223ee",
   "metadata": {},
   "outputs": [
    {
     "name": "stdout",
     "output_type": "stream",
     "text": [
      "003\n"
     ]
    }
   ],
   "source": [
    "class Passenger:\n",
    "    planecode = \"JF-007\"\n",
    "    def __init__(self, name, destination, phone):    \n",
    "        self.name = name \n",
    "        self.destination = destination\n",
    "        self.phone = phone\n",
    "\n",
    "    @classmethod\n",
    "    def changeplane(cls, newplane):\n",
    "        cls.planecode = newplane\n",
    "\n",
    "def main():\n",
    "    p1 = Passenger(\"sami\", \"karachi\", \"000\")\n",
    "    p1.changeplane(\"JF-008\")\n",
    "    print(p1.planecode)\n",
    "\n",
    "    p2 = Passenger(\"Ali\", \"Lahore\", \"001\")\n",
    "    print(p2.planecode) \n",
    "    Passenger.changeplane(\"003\")\n",
    "    print(Passenger.planecode)\n",
    "\n",
    "main()"
   ]
  },
  {
   "cell_type": "markdown",
   "id": "52211bd4-82b7-409e-be2d-db14d140452f",
   "metadata": {},
   "source": [
    "Here, now changeplane() is a class method. It changed the member of the class. Class Method has access to whole class and it can change its members."
   ]
  },
  {
   "cell_type": "markdown",
   "id": "7c3bdd19-3bba-43cc-a30b-346d16775dfa",
   "metadata": {},
   "source": [
    "Class methods are independent of instances. You can also call them by directly using the class name rather than instance"
   ]
  },
  {
   "cell_type": "code",
   "execution_count": 11,
   "id": "84d1edcf-3d31-48ef-a59b-7717342ff717",
   "metadata": {},
   "outputs": [
    {
     "name": "stdout",
     "output_type": "stream",
     "text": [
      "003\n"
     ]
    }
   ],
   "source": [
    "class Passenger:\n",
    "    planecode = \"JF-007\"\n",
    "    def __init__(self, name, destination, phone):    \n",
    "        self.name = name \n",
    "        self.destination = destination\n",
    "        self.phone = phone\n",
    "\n",
    "    @classmethod\n",
    "    def changeplane(cls, newplane):\n",
    "        cls.planecode = newplane\n",
    "\n",
    "def main():\n",
    "    Passenger.changeplane(\"003\")\n",
    "    print(Passenger.planecode)\n",
    "\n",
    "main()"
   ]
  },
  {
   "cell_type": "markdown",
   "id": "c396b27c-acb6-4926-a691-00cdf965ce22",
   "metadata": {},
   "source": [
    "# Class methods as alternative  Constructors "
   ]
  },
  {
   "cell_type": "markdown",
   "id": "e74e4278-87f2-47ff-9713-23b176ad86dc",
   "metadata": {},
   "source": [
    "Class methods can be used when input is recieved in multiple formats. When there are many inputs but there is one UI, then class methods act as alternative constructors."
   ]
  },
  {
   "cell_type": "markdown",
   "id": "5517f2b4-dc0b-4b13-aed5-f38378bffd0b",
   "metadata": {},
   "source": [
    "Here is an example where classes can be used as alternative constructors."
   ]
  },
  {
   "cell_type": "code",
   "execution_count": 6,
   "id": "6871fe41-1ca5-4f61-980b-07ef940343b3",
   "metadata": {},
   "outputs": [
    {
     "name": "stdout",
     "output_type": "stream",
     "text": [
      "@gmail.com\n",
      "Atif\n"
     ]
    }
   ],
   "source": [
    "class Person:\n",
    "    def __init__(self, name, email, phone):\n",
    "        self.name = name\n",
    "        self.email = email \n",
    "        self.phone = phone \n",
    "\n",
    "    @classmethod\n",
    "    def from_list(cls, datalist):\n",
    "        return cls(datalist[0], datalist[1], datalist[2])\n",
    "\n",
    "\n",
    "def main():\n",
    "    p1 = Person(\"Sami\", \"@gmail.com\", \"000\")\n",
    "    print(p1.email)\n",
    "\n",
    "    data_list = [\"Atif\", \"@gmail.com\", \"001\"]\n",
    "    p2 = Person.from_list(data_list)\n",
    "    print(p2.name)\n",
    "\n",
    "main()\n",
    "    "
   ]
  },
  {
   "cell_type": "markdown",
   "id": "fae81377-a303-45e3-bfbc-49bc0758c2f6",
   "metadata": {},
   "source": [
    "Alternative constructors can be used when data is to be recieved in the form of different formats"
   ]
  },
  {
   "cell_type": "code",
   "execution_count": null,
   "id": "b0f0bfb7-cd5a-471f-8dcf-093f9a2abcb0",
   "metadata": {},
   "outputs": [],
   "source": []
  }
 ],
 "metadata": {
  "kernelspec": {
   "display_name": "Python 3 (ipykernel)",
   "language": "python",
   "name": "python3"
  },
  "language_info": {
   "codemirror_mode": {
    "name": "ipython",
    "version": 3
   },
   "file_extension": ".py",
   "mimetype": "text/x-python",
   "name": "python",
   "nbconvert_exporter": "python",
   "pygments_lexer": "ipython3",
   "version": "3.11.9"
  }
 },
 "nbformat": 4,
 "nbformat_minor": 5
}
