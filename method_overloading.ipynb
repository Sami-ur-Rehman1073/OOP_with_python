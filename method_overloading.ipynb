{
 "cells": [
  {
   "cell_type": "markdown",
   "id": "db6b1870-bf44-42c0-9935-0aa3ea5b4a26",
   "metadata": {},
   "source": [
    "# Method Overloading in Python "
   ]
  },
  {
   "cell_type": "markdown",
   "id": "6ea42e21-80a5-4212-b75c-4d5e161d3253",
   "metadata": {},
   "source": [
    "Method overloading is to define multiple methods with the same names within the same class, but with different parameters.<br>\n",
    "Take a look at the code below:"
   ]
  },
  {
   "cell_type": "code",
   "execution_count": null,
   "id": "70887801-260e-4cfb-8fc1-65a052e9f66f",
   "metadata": {},
   "outputs": [],
   "source": [
    "class calculator:\n",
    "    def add(self, a, b):\n",
    "        return a + b\n",
    "\n",
    "    def add(self, a, b, c):\n",
    "        return a + b + c\n",
    "\n",
    "sum = calculator()\n",
    "print(sum.add(1, 2))\n",
    "print(sum.add(1, 2, 3))\n",
    "    "
   ]
  },
  {
   "cell_type": "markdown",
   "id": "49267ffa-409d-4783-a047-81fa1f7724ab",
   "metadata": {},
   "source": [
    "This code will generate an error because it python does not support method overloading."
   ]
  },
  {
   "cell_type": "markdown",
   "id": "a1d2b690-1187-430c-bf0c-865b314e3a43",
   "metadata": {},
   "source": [
    "In python, we can do method ovrloading by using two ways."
   ]
  },
  {
   "cell_type": "markdown",
   "id": "452975cd-04e1-4331-8fae-9fda826f08ec",
   "metadata": {},
   "source": [
    "#### Way-1 "
   ]
  },
  {
   "cell_type": "markdown",
   "id": "f7bbf485-d564-4b3a-9274-0e146b9f57da",
   "metadata": {},
   "source": [
    "We can perform method overloading by setting default arguments:"
   ]
  },
  {
   "cell_type": "code",
   "execution_count": 9,
   "id": "58198cf2-1d66-4fa2-8dda-9d8486ee9dad",
   "metadata": {},
   "outputs": [
    {
     "name": "stdout",
     "output_type": "stream",
     "text": [
      "3\n",
      "6\n"
     ]
    }
   ],
   "source": [
    "class calculator:\n",
    "    def add(self, a, b, c = 0):\n",
    "        return a + b + c\n",
    "\n",
    "\n",
    "sum = calculator()\n",
    "print(sum.add(1, 2))\n",
    "print(sum.add(1, 2, 3))"
   ]
  },
  {
   "cell_type": "markdown",
   "id": "809bf79a-662f-4ac7-a4e0-74987d312a0d",
   "metadata": {},
   "source": [
    "#### Way-2 "
   ]
  },
  {
   "cell_type": "markdown",
   "id": "c25cc377-6ec3-442c-a58d-bcb57ba33165",
   "metadata": {},
   "source": [
    "We can do method overloading by using *args."
   ]
  },
  {
   "cell_type": "code",
   "execution_count": 11,
   "id": "1a5c1669-2436-44e4-96d4-556a2fb7c0fc",
   "metadata": {},
   "outputs": [
    {
     "name": "stdout",
     "output_type": "stream",
     "text": [
      "3\n",
      "6\n"
     ]
    }
   ],
   "source": [
    "class calculator:\n",
    "    def add(self, *args):\n",
    "        sum = 0 \n",
    "        for i in args:\n",
    "            sum += i\n",
    "        return sum\n",
    "        \n",
    "\n",
    "\n",
    "sum = calculator()\n",
    "print(sum.add(1, 2))\n",
    "print(sum.add(1, 2, 3))"
   ]
  },
  {
   "cell_type": "markdown",
   "id": "bd0e4a8a-609c-4a11-a20e-6b6ec4c64253",
   "metadata": {},
   "source": [
    "#### Important to note:"
   ]
  },
  {
   "cell_type": "markdown",
   "id": "4bf1cf48-0ecf-4a59-bf02-c7e2fa40c1d9",
   "metadata": {},
   "source": [
    "if there are functions with same names in python, python always considers the defination of the latest function defined."
   ]
  },
  {
   "cell_type": "code",
   "execution_count": null,
   "id": "7cc382df-580c-4ea5-a09e-a90da057f120",
   "metadata": {},
   "outputs": [],
   "source": [
    "class calculator:\n",
    "    def add(self, a, b):\n",
    "        return a + b\n",
    "\n",
    "    def add(self, a, b, c):           #Python will consider only this defination  ----------(1)\n",
    "        return a + b + c\n",
    "\n",
    "sum = calculator()\n",
    "print(sum.add(1, 2))                 #This func\n",
    "print(sum.add(1, 2, 3))               "
   ]
  }
 ],
 "metadata": {
  "kernelspec": {
   "display_name": "Python 3 (ipykernel)",
   "language": "python",
   "name": "python3"
  },
  "language_info": {
   "codemirror_mode": {
    "name": "ipython",
    "version": 3
   },
   "file_extension": ".py",
   "mimetype": "text/x-python",
   "name": "python",
   "nbconvert_exporter": "python",
   "pygments_lexer": "ipython3",
   "version": "3.11.9"
  }
 },
 "nbformat": 4,
 "nbformat_minor": 5
}
