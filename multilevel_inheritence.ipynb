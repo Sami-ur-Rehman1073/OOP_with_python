{
 "cells": [
  {
   "cell_type": "markdown",
   "id": "0ed560e8-594d-4a64-9563-ecf11fad3276",
   "metadata": {},
   "source": [
    "# Multi-Level Inheritence in Python:"
   ]
  },
  {
   "cell_type": "markdown",
   "id": "ddf0e0f9-bd74-4f8c-984b-05c74047df12",
   "metadata": {},
   "source": [
    "Multilevel inheritance in Python is a form of inheritance where a class is derived from another derived class, forming a chain of inheritance. \n"
   ]
  },
  {
   "cell_type": "markdown",
   "id": "e957081e-106d-4660-9816-1bb45294a138",
   "metadata": {},
   "source": [
    "It allows for the creation of a hierarchy of classes where properties and methods are passed down through multiple levels."
   ]
  },
  {
   "cell_type": "markdown",
   "id": "2f437d56-7d46-42b3-8835-3558b5db255b",
   "metadata": {},
   "source": [
    "Take a look at the sample code:"
   ]
  },
  {
   "cell_type": "code",
   "execution_count": 6,
   "id": "60044f57-2502-496f-87c6-720507721155",
   "metadata": {},
   "outputs": [
    {
     "name": "stdout",
     "output_type": "stream",
     "text": [
      "ID: 007\n",
      "Name: Sami\n",
      "Father's Name: Jamil\n",
      "Contact Number: 000\n",
      "Post: Data Scientist\n",
      "Department: Data Analytics\n",
      "Salary: 100,000\n",
      "Language: Python\n",
      "Experience: 1 Year\n"
     ]
    }
   ],
   "source": [
    "class person:\n",
    "    def __init__(self, id, name, father_name, phone):\n",
    "        self.cnic = id\n",
    "        self.name = name\n",
    "        self.father_name = father_name\n",
    "        self.contact = phone\n",
    "\n",
    "    def show_details(self):\n",
    "        print(\"ID:\", self.cnic)\n",
    "        print(\"Name:\", self.name)\n",
    "        print(\"Father's Name:\", self.father_name)\n",
    "        print(\"Contact Number:\", self.contact)\n",
    "\n",
    "class employee(person):\n",
    "    def __init__(self, id, name, father_name, phone, post, department, salary):\n",
    "        person.__init__(self, id, name, father_name, phone)\n",
    "        self.post = post\n",
    "        self.department = department\n",
    "        self.salary = salary\n",
    "        \n",
    "    def show_details(self):\n",
    "        person.show_details(self)\n",
    "        print(\"Post:\", self.post)\n",
    "        print(\"Department:\", self.department)\n",
    "        print(\"Salary:\", self.salary)\n",
    "\n",
    "class programmer(employee):\n",
    "    def __init__(self, id, name, father_name, phone, post, department, salary, lang, ex):\n",
    "        employee.__init__(self, id, name, father_name, phone, post, department, salary)\n",
    "        self.language = lang \n",
    "        self.experience = ex\n",
    "\n",
    "    def show_details(self):\n",
    "        employee.show_details(self)      \n",
    "        print(\"Language:\", self.language)\n",
    "        print(\"Experience:\", self.experience)\n",
    "\n",
    "def main():\n",
    "    p1 = programmer(\"007\", \"Sami\", \"Jamil\", \"000\", \"Data Scientist\", \"Data Analytics\", \"100,000\", \"Python\", \"1 Year\")\n",
    "    p1.show_details()\n",
    "    \n",
    "main()"
   ]
  },
  {
   "cell_type": "markdown",
   "id": "3fda7c4c-b05a-436c-9ffc-bdd6c1997c6a",
   "metadata": {},
   "source": [
    "### Advantages:"
   ]
  },
  {
   "cell_type": "markdown",
   "id": "8cb6bae4-0d5a-43a1-aeb0-e3eada901d96",
   "metadata": {},
   "source": [
    "<b>Code reusability:</b> Common properties and types of methods at any level can br reused."
   ]
  },
  {
   "cell_type": "markdown",
   "id": "2def0888-9657-409e-843e-111db6d2bc83",
   "metadata": {},
   "source": [
    "<b>Extensibility:</b> New features can be added by extending classes."
   ]
  },
  {
   "cell_type": "markdown",
   "id": "888bcb6b-1e55-4a48-a037-99266e176fce",
   "metadata": {},
   "source": [
    "### Drawbacks:"
   ]
  },
  {
   "cell_type": "markdown",
   "id": "5e37e93f-96da-4cd3-8d6b-35e761ba6fec",
   "metadata": {},
   "source": [
    "<b>Complexity:</b> Deep hierarchies can become difficult to manage and debug."
   ]
  },
  {
   "cell_type": "markdown",
   "id": "fd18a272-9098-44b8-b859-2d2eb6d3f212",
   "metadata": {},
   "source": [
    "<b>Tight coupling:</b> Changes in the base class may impact all derived classes."
   ]
  },
  {
   "cell_type": "code",
   "execution_count": null,
   "id": "ba48b035-347d-4bf1-9499-4672fdf378e5",
   "metadata": {},
   "outputs": [],
   "source": []
  }
 ],
 "metadata": {
  "kernelspec": {
   "display_name": "Python 3 (ipykernel)",
   "language": "python",
   "name": "python3"
  },
  "language_info": {
   "codemirror_mode": {
    "name": "ipython",
    "version": 3
   },
   "file_extension": ".py",
   "mimetype": "text/x-python",
   "name": "python",
   "nbconvert_exporter": "python",
   "pygments_lexer": "ipython3",
   "version": "3.11.9"
  }
 },
 "nbformat": 4,
 "nbformat_minor": 5
}
