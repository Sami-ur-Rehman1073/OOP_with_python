{
 "cells": [
  {
   "cell_type": "markdown",
   "id": "cec40d88-02a5-442f-91b1-dffceefc6a79",
   "metadata": {},
   "source": [
    "# Single Inheritence in Python"
   ]
  },
  {
   "cell_type": "markdown",
   "id": "61f1d331-c57e-4b06-9e07-3a19c95ef08f",
   "metadata": {},
   "source": [
    "Single inheritance is a fundamental concept in object-oriented programming where a class (called a child class or subclass) inherits properties and behaviors (attributes and methods) from another class (called a parent class or superclass)."
   ]
  },
  {
   "cell_type": "markdown",
   "id": "ff6247a7-8b3d-4583-8a3e-cebe545b1efa",
   "metadata": {},
   "source": [
    "This allows the resuability of the code and it supports DRY(Don't Repeat Yourself) principle."
   ]
  },
  {
   "cell_type": "markdown",
   "id": "75e821ef-622d-4320-aeab-19e23a8c0848",
   "metadata": {},
   "source": [
    "Consider the example of the following code:"
   ]
  },
  {
   "cell_type": "markdown",
   "id": "6645f91e-dd1a-4664-b253-85464603877d",
   "metadata": {},
   "source": [
    "In this code, there are two classes \"person\" and \"employee\"."
   ]
  },
  {
   "cell_type": "code",
   "execution_count": null,
   "id": "27151fa8-3e61-4655-88f7-05e73f3c5680",
   "metadata": {},
   "outputs": [],
   "source": [
    "class person:\n",
    "    def __init__(self, id, name, father_name, phone):\n",
    "        self.id = id\n",
    "        self.name = name\n",
    "        self.father_name = father_name\n",
    "        self.contact = phone\n",
    "\n",
    "class employee():\n",
    "    def __init__(self, post, department, salary):\n",
    "        self.post = post\n",
    "        self.department = department\n",
    "        self.salary = salary\n"
   ]
  },
  {
   "cell_type": "markdown",
   "id": "66a7d90c-e57e-4b87-855f-a5395564418f",
   "metadata": {},
   "source": [
    "Now if we want the class members of person class in employee class, then a simple way of doing that can be simply copying the attributes of person class to child class like below."
   ]
  },
  {
   "cell_type": "code",
   "execution_count": null,
   "id": "e403cb0f-1a2a-41db-829e-1e0a9ab95c26",
   "metadata": {},
   "outputs": [],
   "source": [
    "class person:\n",
    "    def __init__(self, id, name, father_name, phone):\n",
    "        self.id = id\n",
    "        self.name = name\n",
    "        self.father_name = father_name\n",
    "        self.contact = phone\n",
    "\n",
    "class employee:\n",
    "    def __init__(self, id, name, father_name, phone, post, department, salary):\n",
    "        self.id = id\n",
    "        self.name = name\n",
    "        self.father_name = father_name\n",
    "        self.contact = phone\n",
    "        self.post = post\n",
    "        self.department = department\n",
    "        self.salary = salary"
   ]
  },
  {
   "cell_type": "markdown",
   "id": "0f268b03-4be3-48ac-be43-360e5824902d",
   "metadata": {},
   "source": [
    "but it is not a good way because it reduces the code reusability and if the init method of \"person\" has a huge amount of attributes, then it will become a headache to handle such huge amount of attributes. "
   ]
  },
  {
   "cell_type": "markdown",
   "id": "cb3b9138-005f-4899-ba3c-380ea977f516",
   "metadata": {},
   "source": [
    "So for avoiding that, we use single inheritence which allows us to reuse code."
   ]
  },
  {
   "cell_type": "code",
   "execution_count": 8,
   "id": "18272df8-946d-496e-aa47-f32fa948398e",
   "metadata": {},
   "outputs": [
    {
     "name": "stdout",
     "output_type": "stream",
     "text": [
      "ID: 007\n",
      "Name: Sami\n",
      "Father's Name: Jamil\n",
      "Contact Number: 000\n",
      "Post: Data Scientist\n",
      "Department: Data Analytics\n",
      "Salary: 100,000\n"
     ]
    }
   ],
   "source": [
    "class person:\n",
    "    def __init__(self, id, name, father_name, phone):\n",
    "        self.id = id\n",
    "        self.name = name\n",
    "        self.father_name = father_name\n",
    "        self.contact = phone\n",
    "\n",
    "    def display(self):\n",
    "        print(\"ID:\", self.id)\n",
    "        print(\"Name:\", self.name)\n",
    "        print(\"Father's Name:\", self.father_name)\n",
    "        print(\"Contact Number:\", self.contact)\n",
    "\n",
    "    \n",
    "\n",
    "class employee(person):\n",
    "    def __init__(self, id, name, father_name, phone, post, department, salary):\n",
    "        person.__init__(self, id, name, father_name, phone)\n",
    "        self.post = post\n",
    "        self.department = department\n",
    "        self.salary = salary\n",
    "        \n",
    "    def display(self):\n",
    "        person.display(self)\n",
    "        print(\"Post:\", self.post)\n",
    "        print(\"Department:\", self.department)\n",
    "        print(\"Salary:\", self.salary)\n",
    "\n",
    "\n",
    "def main():\n",
    "    e1 = employee(\"007\", \"Sami\", \"Jamil\", \"000\", \"Data Scientist\", \"Data Analytics\", \"100,000\")\n",
    "    e1.display()\n",
    "\n",
    "\n",
    "main()\n",
    "\n"
   ]
  },
  {
   "cell_type": "markdown",
   "id": "e6d71d4e-4512-421e-ad4f-733335a2d6cc",
   "metadata": {},
   "source": [
    "This is a useful concept as it "
   ]
  }
 ],
 "metadata": {
  "kernelspec": {
   "display_name": "Python 3 (ipykernel)",
   "language": "python",
   "name": "python3"
  },
  "language_info": {
   "codemirror_mode": {
    "name": "ipython",
    "version": 3
   },
   "file_extension": ".py",
   "mimetype": "text/x-python",
   "name": "python",
   "nbconvert_exporter": "python",
   "pygments_lexer": "ipython3",
   "version": "3.11.9"
  }
 },
 "nbformat": 4,
 "nbformat_minor": 5
}
