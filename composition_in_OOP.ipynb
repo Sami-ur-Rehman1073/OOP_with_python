{
 "cells": [
  {
   "cell_type": "markdown",
   "id": "cd323338-edeb-4c3e-87b9-69e2972dc4d2",
   "metadata": {},
   "source": [
    "# Composition in Object Oriented Programming"
   ]
  },
  {
   "cell_type": "markdown",
   "id": "238239f2-b9a3-482f-a774-50877ca284df",
   "metadata": {},
   "source": [
    "A Composition is a design principle in which there are objects of other classes in a class. In this way, a class can use the functionality of other classes because of the prensence of objects of other classes."
   ]
  },
  {
   "cell_type": "markdown",
   "id": "61deb17d-903c-4177-8e53-b2f7bfab2fa4",
   "metadata": {},
   "source": [
    "Take a look at the example code:"
   ]
  },
  {
   "cell_type": "code",
   "execution_count": 7,
   "id": "5c38e999-5fb5-489b-97d3-a1c1fa48f7ed",
   "metadata": {},
   "outputs": [
    {
     "name": "stdout",
     "output_type": "stream",
     "text": [
      "Consumer Name: Sami\n",
      "Your bill is 10216\n"
     ]
    }
   ],
   "source": [
    "import math\n",
    "class tax:\n",
    "    def __init__(self, units):\n",
    "        self.units = units\n",
    "\n",
    "    def tax_calculator(self):\n",
    "        tax = 0\n",
    "        if self.units > 200 and self.units <= 300:\n",
    "            tax = 5/100\n",
    "        if self.units > 300 and self.units <= 400:\n",
    "            tax = 10/100\n",
    "        if self.units > 400 and self.units <= 500:\n",
    "            tax = 15/100\n",
    "        if self.units > 500 and self.units <= 600:\n",
    "            tax = 20/100\n",
    "        if self.units > 600 :\n",
    "            tax = 25/100\n",
    "        return tax \n",
    "\n",
    "class bill:\n",
    "    def __init__(self, name, units, price):\n",
    "        self.consumer_name = name\n",
    "        self.units = units\n",
    "        self.unit_price = price\n",
    "        self.tax = tax(units)\n",
    "\n",
    "    def bill_calculator(self):\n",
    "        return (self.units * self.unit_price) + (math.floor(self.tax.tax_calculator() * (self.units * self.unit_price)))\n",
    "\n",
    "    def generate_bill(self):\n",
    "        total_bill = self.bill_calculator()\n",
    "        print(f\"Consumer Name: {self.consumer_name}\\nYour bill is {total_bill}\")\n",
    "\n",
    "def main():\n",
    "    sami = bill(\"Sami\", 344, 27)\n",
    "    sami.generate_bill()\n",
    "\n",
    "\n",
    "main()\n",
    "        "
   ]
  },
  {
   "cell_type": "markdown",
   "id": "bb5b7073-6e1d-41fd-8e74-036938f04a3f",
   "metadata": {},
   "source": [
    "Compostion is useful when there is a \"Has a\" relationship between the classes, when a class has of objects of other classes."
   ]
  },
  {
   "cell_type": "markdown",
   "id": "313a1d52-a8e5-49bd-be1d-23386095cac5",
   "metadata": {},
   "source": [
    "In Inheritence, there is a herarchy of classes. The classes are bound to each other."
   ]
  },
  {
   "cell_type": "markdown",
   "id": "e0dee081-406b-4ef5-9559-3d35b450267e",
   "metadata": {},
   "source": [
    "When we dont want to bound up classes by inheritence and still want to use methods of other classes, then we can use composition. \n",
    "It increases the code reusability."
   ]
  },
  {
   "cell_type": "code",
   "execution_count": null,
   "id": "7a7830da-bfa0-4573-9551-0f4abeb074c2",
   "metadata": {},
   "outputs": [],
   "source": []
  }
 ],
 "metadata": {
  "kernelspec": {
   "display_name": "Python 3 (ipykernel)",
   "language": "python",
   "name": "python3"
  },
  "language_info": {
   "codemirror_mode": {
    "name": "ipython",
    "version": 3
   },
   "file_extension": ".py",
   "mimetype": "text/x-python",
   "name": "python",
   "nbconvert_exporter": "python",
   "pygments_lexer": "ipython3",
   "version": "3.11.9"
  }
 },
 "nbformat": 4,
 "nbformat_minor": 5
}
