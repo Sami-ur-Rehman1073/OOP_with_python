{
 "cells": [
  {
   "cell_type": "markdown",
   "id": "5c8cbb49-d17c-4d25-989d-50f0e7d08013",
   "metadata": {},
   "source": [
    "# Gettters and Setters in Python "
   ]
  },
  {
   "cell_type": "markdown",
   "id": "47cd1a69-224f-432c-9d2a-4145bdf240b1",
   "metadata": {},
   "source": [
    "We will understand getters and setters in python with the help of an example."
   ]
  },
  {
   "cell_type": "markdown",
   "id": "fff22f57-0706-4e64-8762-db8b51f0662f",
   "metadata": {},
   "source": [
    "Take a look at the code below:"
   ]
  },
  {
   "cell_type": "code",
   "execution_count": 1,
   "id": "dd78d9ce-9670-4e24-b3ec-44d097c550ed",
   "metadata": {},
   "outputs": [
    {
     "name": "stdout",
     "output_type": "stream",
     "text": [
      "Sami from Software Engineering\n"
     ]
    }
   ],
   "source": [
    "class employee:\n",
    "    def __init__(self, name, department):\n",
    "        self.name = name\n",
    "        if department not in [\"Software Engineering\", \"Management\", \"QA\", \"HR\"]:\n",
    "            raise ValueError(\"Invalid House\")\n",
    "        self.department = department\n",
    "\n",
    "    def __str__(self):\n",
    "        return f\"{self.name} from {self.department}\"\n",
    "\n",
    "\n",
    "def main():\n",
    "    e1 = employee(\"Sami\", \"Software Engineering\")\n",
    "    print(e1)\n",
    "\n",
    "main()\n"
   ]
  },
  {
   "cell_type": "markdown",
   "id": "e171a1d3-bc37-4707-bca8-07e472818222",
   "metadata": {},
   "source": [
    "This code looks fine as it is working properly"
   ]
  },
  {
   "cell_type": "markdown",
   "id": "bbdd8d60-cfb8-4cde-b46b-05e209aa2a5d",
   "metadata": {},
   "source": [
    "Now check the error handling of this code."
   ]
  },
  {
   "cell_type": "code",
   "execution_count": null,
   "id": "26fb95d8-4c6a-464d-8f4e-8b51557271ba",
   "metadata": {},
   "outputs": [],
   "source": [
    "class employee:\n",
    "    def __init__(self, name, department):\n",
    "        self.name = name\n",
    "        if department not in [\"Software Engineering\", \"Management\", \"QA\", \"HR\"]:\n",
    "            raise ValueError(\"Invalid House\")\n",
    "        self.department = department\n",
    "\n",
    "    def __str__(self):\n",
    "        return f\"{self.name} from {self.department}\"\n",
    "\n",
    "\n",
    "def main():\n",
    "    e1 = employee(\"Sami\", \"Planning\")\n",
    "    print(e1)\n",
    "\n",
    "main()\n"
   ]
  },
  {
   "cell_type": "markdown",
   "id": "75978ae8-13e7-4514-85b5-4315e432dce6",
   "metadata": {},
   "source": [
    "This will cause an error as the this is not a valid department."
   ]
  },
  {
   "cell_type": "markdown",
   "id": "3d506a05-742b-4134-a4bc-8b31b9254581",
   "metadata": {},
   "source": [
    "But a progammer or any other person that is using your class can change the value of attribute by accessing it from the object"
   ]
  },
  {
   "cell_type": "code",
   "execution_count": 15,
   "id": "b07e824f-3105-4e10-b780-dabf0a067494",
   "metadata": {},
   "outputs": [
    {
     "name": "stdout",
     "output_type": "stream",
     "text": [
      "Sami from Planning\n"
     ]
    }
   ],
   "source": [
    "class employee:\n",
    "    def __init__(self, name, department):\n",
    "        self.name = name\n",
    "        if department not in [\"Software Engineering\", \"Management\", \"QA\", \"HR\"]:\n",
    "            raise ValueError(\"Invalid House\")\n",
    "        self.department = department\n",
    "\n",
    "    def __str__(self):\n",
    "        return f\"{self.name} from {self.department}\"\n",
    "\n",
    "\n",
    "def main():\n",
    "    e1 = employee(\"Sami\", \"Software Engineering\")\n",
    "    e1.department = \"Planning\"\n",
    "    print(e1)\n",
    "\n",
    "main()\n"
   ]
  },
  {
   "cell_type": "markdown",
   "id": "61a93d36-d95d-456c-9a4a-add283426bca",
   "metadata": {},
   "source": [
    "It means that any other person can bypass your error checking and can change the value of the attribute by just accessing the value of the attribute which is a problem "
   ]
  },
  {
   "cell_type": "markdown",
   "id": "d399fd76-ab35-44f4-b4d1-ca584ea2e89c",
   "metadata": {},
   "source": [
    "So to address this problem, we use getters and setters. Getters and setters are the functions which get the value and set the object attribute to that value. "
   ]
  },
  {
   "cell_type": "code",
   "execution_count": null,
   "id": "1bed320c-e6ac-474f-af9a-06ee1c0f098c",
   "metadata": {},
   "outputs": [],
   "source": [
    "class employee:\n",
    "    def __init__(self, name, department):\n",
    "        self.name = name\n",
    "        self.department = department\n",
    "\n",
    "    @property\n",
    "    def department(self):\n",
    "        return self._department\n",
    "\n",
    "    @department.setter\n",
    "    def department(self, value):\n",
    "        if value not in [\"Software Engineering\", \"Management\", \"QA\", \"HR\"]:\n",
    "            raise ValueError(\"Invalid  Department\")\n",
    "        self._department = value\n",
    "        \n",
    "\n",
    "    def __str__(self):\n",
    "        return f\"{self.name} from {self.department}\"\n",
    "\n",
    "\n",
    "def main():\n",
    "    e1 = employee(\"Sami\", \"Software Engineering\")\n",
    "    e1.department = \"Planning\"\n",
    "    print(e1)\n",
    "\n",
    "main()\n"
   ]
  },
  {
   "cell_type": "markdown",
   "id": "55e2d463-62a2-46d3-933c-7fb77b5fa059",
   "metadata": {},
   "source": [
    "### Working of Getters and Setters:"
   ]
  },
  {
   "cell_type": "markdown",
   "id": "f71121dd-7aa8-4c3c-8466-e96a30d6bbcf",
   "metadata": {},
   "source": [
    "In this example, The setter function of department gets called when the interpretor sees .department in the code\n",
    "When the python interpretor comes to the line \n",
    "self.department = department\n",
    "in the __init__ method, the setter gets called, and it sets the value given as an argument to self._department if it passes the error checking. The value which is setted in stored in the self._department in the setter function. \n",
    "Whenever we want the value of department, the self._department attribute is returned back from the getter function. \n",
    "Hence, whenever we will call the department attribute, it is given by the getter function."
   ]
  },
  {
   "cell_type": "markdown",
   "id": "4e65f513-872a-4e65-a933-e74e81e5e806",
   "metadata": {},
   "source": [
    "### Error of Recursion Depth:"
   ]
  },
  {
   "cell_type": "markdown",
   "id": "c48e7ad8-ff2c-4965-ba9d-39dcde018d0f",
   "metadata": {},
   "source": [
    "Wherever there is .department in the code, the setter function will be called. So if we use self.department also in the setter function, the setter function will be called again and again in the setter function after seeing self.department in the setter. It will cause recursion depth error. To avoid this, we use the name self._department in the getter and setter so the setter function does not get called again and again."
   ]
  },
  {
   "cell_type": "markdown",
   "id": "2d47eb54-716a-4351-80fa-60506d82d613",
   "metadata": {},
   "source": [
    "### Uses of Getters and Setters:"
   ]
  },
  {
   "cell_type": "markdown",
   "id": "35adfb97-7f51-4da1-a2bd-b6e697a4640a",
   "metadata": {},
   "source": [
    "Getters and setters are very useful to implement encapsulation, when we have to restrict the direst access of some attribute"
   ]
  },
  {
   "cell_type": "markdown",
   "id": "f4818d55-c7af-4bdf-8543-2539ad0a1a2c",
   "metadata": {},
   "source": [
    "Getters and setters are also used to give limited access to some attributes. "
   ]
  },
  {
   "cell_type": "markdown",
   "id": "4bf41480-7ebd-4375-b6a7-03a0f4412c56",
   "metadata": {},
   "source": [
    "Take a look at this example."
   ]
  },
  {
   "cell_type": "code",
   "execution_count": null,
   "id": "d083e169-4bf8-4dee-9ec9-4e1e704081dd",
   "metadata": {},
   "outputs": [],
   "source": [
    "class Secret:\n",
    "    def __init__(self, password):\n",
    "        self._password = password\n",
    "\n",
    "    @property\n",
    "    def password(self):\n",
    "        raise ValueError(\"Password cannot be read!\")\n",
    "\n",
    "    @password.setter\n",
    "    def password(self, value):\n",
    "        self._password = value\n"
   ]
  },
  {
   "cell_type": "markdown",
   "id": "b92e1013-cb73-4f20-a2db-9acc75b1d27e",
   "metadata": {},
   "source": [
    "Here, we are limiting the access of a specific attribute."
   ]
  },
  {
   "cell_type": "markdown",
   "id": "0e38bb58-7a45-43bf-b223-5c159b4769fa",
   "metadata": {},
   "source": [
    "So it can be used to protect sensitive information like passwords."
   ]
  },
  {
   "cell_type": "code",
   "execution_count": null,
   "id": "acd6f3eb-830f-4baf-a6db-5318583105c5",
   "metadata": {},
   "outputs": [],
   "source": []
  }
 ],
 "metadata": {
  "kernelspec": {
   "display_name": "Python 3 (ipykernel)",
   "language": "python",
   "name": "python3"
  },
  "language_info": {
   "codemirror_mode": {
    "name": "ipython",
    "version": 3
   },
   "file_extension": ".py",
   "mimetype": "text/x-python",
   "name": "python",
   "nbconvert_exporter": "python",
   "pygments_lexer": "ipython3",
   "version": "3.11.9"
  }
 },
 "nbformat": 4,
 "nbformat_minor": 5
}
