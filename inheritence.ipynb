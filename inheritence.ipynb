{
 "cells": [
  {
   "cell_type": "markdown",
   "id": "85491997-36e3-4e2d-9e04-b42116ab7dfe",
   "metadata": {},
   "source": [
    "# Inheritence in Python"
   ]
  },
  {
   "cell_type": "code",
   "execution_count": 16,
   "id": "e8dce0e2-aa03-4fa9-99d9-8823d9ff6af3",
   "metadata": {},
   "outputs": [
    {
     "name": "stdout",
     "output_type": "stream",
     "text": [
      "Employee ID: 007\n",
      "Employee Name Sami\n"
     ]
    }
   ],
   "source": [
    "class employee:\n",
    "    def __init__(self, id, name):\n",
    "        self.id = id\n",
    "        self.name = name\n",
    "\n",
    "    def showinfo(self):\n",
    "        print(f\"Employee ID: {self.id}\\nEmployee Name {self.name}\")\n",
    "\n",
    "class programmer(employee):\n",
    "    pass\n",
    "    \n",
    "def main():\n",
    "    e2 = programmer(\"007\", \"Sami\")\n",
    "    e2.showinfo()\n",
    "    \n",
    "main()"
   ]
  },
  {
   "cell_type": "code",
   "execution_count": null,
   "id": "01ebc900-3106-48c4-b941-3da6de59aa69",
   "metadata": {},
   "outputs": [],
   "source": []
  }
 ],
 "metadata": {
  "kernelspec": {
   "display_name": "Python 3 (ipykernel)",
   "language": "python",
   "name": "python3"
  },
  "language_info": {
   "codemirror_mode": {
    "name": "ipython",
    "version": 3
   },
   "file_extension": ".py",
   "mimetype": "text/x-python",
   "name": "python",
   "nbconvert_exporter": "python",
   "pygments_lexer": "ipython3",
   "version": "3.11.9"
  }
 },
 "nbformat": 4,
 "nbformat_minor": 5
}
